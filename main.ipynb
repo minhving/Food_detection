{
 "cells": [
  {
   "cell_type": "code",
   "id": "initial_id",
   "metadata": {
    "collapsed": true,
    "ExecuteTime": {
     "end_time": "2025-06-19T12:15:54.691518Z",
     "start_time": "2025-06-19T12:15:54.687483Z"
    }
   },
   "source": [
    "from dotenv import load_dotenv\n",
    "import os"
   ],
   "outputs": [],
   "execution_count": 3
  },
  {
   "metadata": {
    "ExecuteTime": {
     "end_time": "2025-06-19T12:15:57.260595Z",
     "start_time": "2025-06-19T12:15:57.253966Z"
    }
   },
   "cell_type": "code",
   "source": [
    "load_dotenv(override=True)\n",
    "OPENAI_API_KEY = os.getenv('OPENAI_API_KEY')\n",
    "GOOGLE_API_KEY = os.getenv('GOOGLE_API_KEY')"
   ],
   "id": "ed9dd03d82ad9d41",
   "outputs": [],
   "execution_count": 4
  },
  {
   "metadata": {
    "ExecuteTime": {
     "end_time": "2025-06-19T12:18:55.019233Z",
     "start_time": "2025-06-19T12:18:55.012206Z"
    }
   },
   "cell_type": "code",
   "source": [
    "system_message = \"You are assissant AI that help to identify and calculate the food calory in the image.\"\n",
    "system_message += \"There are 11 food dishes: dhal curry, fish curry,gotukola mallum salad, hoppers, kiribath, kottu, lunu sambol, pittu,  pol sambol, string hoppers, watalappan\""
   ],
   "id": "e513425851e579b2",
   "outputs": [],
   "execution_count": 7
  },
  {
   "metadata": {
    "ExecuteTime": {
     "end_time": "2025-06-19T12:19:13.817148Z",
     "start_time": "2025-06-19T12:18:57.734261Z"
    }
   },
   "cell_type": "code",
   "source": [
    "import base64\n",
    "from openai import OpenAI\n",
    "\n",
    "client = OpenAI()\n",
    "\n",
    "# Function to encode the image\n",
    "def encode_image(image_path):\n",
    "    with open(image_path, \"rb\") as image_file:\n",
    "        return base64.b64encode(image_file.read()).decode(\"utf-8\")\n",
    "\n",
    "# Path to your image\n",
    "image_path = \"new_ds/dhal_curry/dhal_curry_1.jpg\"\n",
    "\n",
    "# Getting the Base64 string\n",
    "\n",
    "\n",
    "base64_image = encode_image(image_path)\n",
    "message = [{\"role\":\"system\" , \"content\" : system_message} , {\n",
    "            \"role\": \"user\",\n",
    "            \"content\": [\n",
    "                { \"type\": \"text\", \"text\":\"can you tell me about the food ingredients and the amount of these in the dish that you can see in the image. Calulate the calory of the food\" },\n",
    "                {\n",
    "                    \"type\": \"image_url\",\n",
    "                    \"image_url\": {\n",
    "                        \"url\": f\"data:image/jpeg;base64,{base64_image}\",\n",
    "                    },\n",
    "                },\n",
    "            ],\n",
    "        }]\n",
    "\n",
    "\n",
    "completion = client.chat.completions.create(\n",
    "    model=\"gpt-4.1\",\n",
    "    messages= message\n",
    ")\n",
    "\n",
    "print(completion.choices[0].message.content)"
   ],
   "id": "dff8fec28ddc226c",
   "outputs": [
    {
     "name": "stdout",
     "output_type": "stream",
     "text": [
      "This image shows a bowl of **Dhal Curry**, which is a classic Sri Lankan dish. Let’s break down the typical ingredients and estimate the calorie count for a standard serving (about **1 cup / 200g**).\n",
      "\n",
      "### Common Ingredients & Estimated Amounts\n",
      "1. **Red lentils (masoor dhal)** – 100g (dry, yields about 200g cooked)\n",
      "2. **Onion** – 40g (about 1/4 medium)\n",
      "3. **Tomato** – 30g (about 1/3 medium)\n",
      "4. **Coconut milk** – 60ml (1/4 cup)\n",
      "5. **Green chilies** – 1 piece\n",
      "6. **Dried red chilies** – 2 pieces (for garnish and some spice)\n",
      "7. **Curry leaves** – a few (5-6 leaves)\n",
      "8. **Mustard seeds/cumin seeds** – 1/2 tsp\n",
      "9. **Turmeric powder** – 1/2 tsp\n",
      "10. **Salt** – to taste\n",
      "11. **Vegetable oil** – 1 tsp (for tempering/spices)\n",
      "12. **Garlic/ginger** – 1 clove/ ½ inch (optional)\n",
      "\n",
      "### Approximate Calorie Calculation for 1 Cup (200g) Serving:\n",
      "1. **Cooked lentils (200g)**: ~230 kcal  \n",
      "2. **Onion (40g)**: ~16 kcal  \n",
      "3. **Tomato (30g)**: ~6 kcal  \n",
      "4. **Coconut milk (60ml)**: ~120 kcal  \n",
      "5. **Vegetable oil (1 tsp/5g)**: ~45 kcal  \n",
      "6. **Other ingredients (spices, chilies, curry leaves, salt, etc.)**: ~10 kcal\n",
      "\n",
      "#### **Total Calories: 427 kcal per cup (200g serving)**\n",
      "\n",
      "### Summary Table\n",
      "\n",
      "| Ingredient           | Estimated Amount | Calories |\n",
      "|----------------------|------------------|----------|\n",
      "| Cooked lentils       | 200g             | 230 kcal |\n",
      "| Onion                | 40g              | 16 kcal  |\n",
      "| Tomato               | 30g              | 6 kcal   |\n",
      "| Coconut milk         | 60ml             | 120 kcal |\n",
      "| Oil                  | 1 tsp            | 45 kcal  |\n",
      "| Spices & others      | -                | 10 kcal  |\n",
      "| **Total**            | -                | **427 kcal** |\n",
      "\n",
      "### Note\n",
      "- **Calorie count can vary** based on the exact recipe, coconut milk fat content, and portion size.\n",
      "- This estimate is for a typical home-cooked dhal curry as seen in your image.\n",
      "\n",
      "If you have more specific information about portion size or preparation, I can refine this estimate further!\n"
     ]
    }
   ],
   "execution_count": 8
  },
  {
   "metadata": {
    "ExecuteTime": {
     "end_time": "2025-06-19T12:21:26.965632Z",
     "start_time": "2025-06-19T12:21:21.999349Z"
    }
   },
   "cell_type": "code",
   "source": [
    "from PIL import Image\n",
    "# from google import genai\n",
    "import google.generativeai as genai\n",
    "\n",
    "genai.configure(api_key= GOOGLE_API_KEY)\n",
    "client = genai.GenerativeModel( system_instruction=system_message, model_name =\"gemini-2.0-flash\")\n",
    "\n",
    "image = Image.open(\"new_ds/dhal_curry/dhal_curry_1.jpg\")\n",
    "response = client.generate_content(\n",
    "    [image, \"can you tell me about the food ingredients and the amount of these in the dish that you can see in the image. Calulate the calory of the food\"]\n",
    ")\n",
    "print(response.text)"
   ],
   "id": "e5c576db3103a412",
   "outputs": [
    {
     "name": "stdout",
     "output_type": "stream",
     "text": [
      "Okay, I can help with that! Based on the image, the food dish appears to be **Dhal Curry**.\n",
      "\n",
      "Here's a breakdown of the likely ingredients and approximate calorie content based on a typical serving size:\n",
      "\n",
      "**Likely Ingredients (Estimates)**\n",
      "\n",
      "*   **Lentils (Dhal):** (Approx. 1 cup cooked) - This is the primary ingredient.\n",
      "*   **Coconut Milk:** (Approx. 1/2 cup) - Gives the curry its creamy texture.\n",
      "*   **Onion:** (Approx. 1/4 cup chopped)\n",
      "*   **Tomatoes:** (Approx. 1/4 cup chopped)\n",
      "*   **Green Chilies:** (A few, for spice)\n",
      "*   **Spices:** (Turmeric, cumin, mustard seeds, curry leaves, garlic, ginger) - Small amounts of each\n",
      "*   **Oil:** (For cooking) - Probably about 1-2 tablespoons\n",
      "\n",
      "**Estimated Calorie Calculation (per serving):**\n",
      "\n",
      "*   **Lentils (1 cup cooked):** 230 calories\n",
      "*   **Coconut Milk (1/2 cup):** 220 calories\n",
      "*   **Onion (1/4 cup):** 15 calories\n",
      "*   **Tomatoes (1/4 cup):** 5 calories\n",
      "*   **Oil (2 tablespoons):** 240 calories\n",
      "*   **Spices:** (negligible)\n",
      "\n",
      "**Total Estimated Calories: Approximately 710 calories per serving**\n",
      "\n",
      "**Important Considerations:**\n",
      "\n",
      "*   **Serving Size:** This is an estimate for a typical serving. Actual calories will depend on the portion size.\n",
      "*   **Preparation Method:** The amount of oil used can significantly impact the calorie count. If less oil is used, the calorie count will be lower.\n",
      "*   **Other Ingredients:** There might be other vegetables or ingredients that are not visible in the image that could affect the calorie count.\n",
      "\n",
      "**Disclaimer:** This is an estimated calculation. For a more precise calorie count, it's best to know the exact recipe and quantities used.\n"
     ]
    }
   ],
   "execution_count": 12
  }
 ],
 "metadata": {
  "kernelspec": {
   "display_name": "Python 3",
   "language": "python",
   "name": "python3"
  },
  "language_info": {
   "codemirror_mode": {
    "name": "ipython",
    "version": 2
   },
   "file_extension": ".py",
   "mimetype": "text/x-python",
   "name": "python",
   "nbconvert_exporter": "python",
   "pygments_lexer": "ipython2",
   "version": "2.7.6"
  }
 },
 "nbformat": 4,
 "nbformat_minor": 5
}
