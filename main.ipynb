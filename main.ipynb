{
 "cells": [
  {
   "cell_type": "code",
   "id": "initial_id",
   "metadata": {
    "collapsed": true,
    "ExecuteTime": {
     "end_time": "2025-06-19T13:06:36.974594Z",
     "start_time": "2025-06-19T13:06:36.959618Z"
    }
   },
   "source": [
    "from dotenv import load_dotenv\n",
    "import os"
   ],
   "outputs": [],
   "execution_count": 1
  },
  {
   "metadata": {
    "ExecuteTime": {
     "end_time": "2025-06-19T13:07:07.433490Z",
     "start_time": "2025-06-19T13:07:07.421993Z"
    }
   },
   "cell_type": "code",
   "source": [
    "load_dotenv(override=True)\n",
    "OPENAI_API_KEY = os.getenv('OPENAI_API_KEY')\n",
    "GOOGLE_API_KEY = os.getenv('GOOGLE_API_KEY')"
   ],
   "id": "ed9dd03d82ad9d41",
   "outputs": [],
   "execution_count": 2
  },
  {
   "metadata": {
    "ExecuteTime": {
     "end_time": "2025-06-19T13:07:13.559037Z",
     "start_time": "2025-06-19T13:07:13.552027Z"
    }
   },
   "cell_type": "code",
   "source": [
    "system_message = \"You are assissant AI that help to identify and calculate the food calory in the image.\"\n",
    "system_message += \"There are 11 food dishes: dhal curry, fish curry,gotukola mallum salad, hoppers, kiribath, kottu, lunu sambol, pittu,  pol sambol, string hoppers, watalappan\""
   ],
   "id": "e513425851e579b2",
   "outputs": [],
   "execution_count": 3
  },
  {
   "metadata": {
    "ExecuteTime": {
     "end_time": "2025-06-19T13:07:43.226459Z",
     "start_time": "2025-06-19T13:07:27.697723Z"
    }
   },
   "cell_type": "code",
   "source": [
    "import base64\n",
    "from openai import OpenAI\n",
    "\n",
    "client = OpenAI()\n",
    "\n",
    "# Function to encode the image\n",
    "def encode_image(image_path):\n",
    "    with open(image_path, \"rb\") as image_file:\n",
    "        return base64.b64encode(image_file.read()).decode(\"utf-8\")\n",
    "\n",
    "# Path to your image\n",
    "image_path = \"new_ds/images/dhal_curry_1.jpg\"\n",
    "\n",
    "# Getting the Base64 string\n",
    "\n",
    "\n",
    "base64_image = encode_image(image_path)\n",
    "message = [{\"role\":\"system\" , \"content\" : system_message} , {\n",
    "            \"role\": \"user\",\n",
    "            \"content\": [\n",
    "                { \"type\": \"text\", \"text\":\"can you tell me about the food ingredients and the amount of these in the dish that you can see in the image. Calulate the calory of the food\" },\n",
    "                {\n",
    "                    \"type\": \"image_url\",\n",
    "                    \"image_url\": {\n",
    "                        \"url\": f\"data:image/jpeg;base64,{base64_image}\",\n",
    "                    },\n",
    "                },\n",
    "            ],\n",
    "        }]\n",
    "\n",
    "\n",
    "completion = client.chat.completions.create(\n",
    "    model=\"gpt-4.1\",\n",
    "    messages= message\n",
    ")\n",
    "\n",
    "print(completion.choices[0].message.content)"
   ],
   "id": "dff8fec28ddc226c",
   "outputs": [
    {
     "name": "stdout",
     "output_type": "stream",
     "text": [
      "The dish in the image is **Dhal Curry**, a staple in Sri Lankan cuisine.\n",
      "\n",
      "### Typical Ingredients and Approximate Amounts:\n",
      "For one serving (~200g cooked curry, as appears in the bowl):\n",
      "\n",
      "- Red lentils (Masoor dhal): **75g (dry)**\n",
      "- Onion: **30g (about 1/4 medium onion)**\n",
      "- Tomato: **25g (about 1/4 medium tomato)**\n",
      "- Coconut milk: **60ml**\n",
      "- Water: **100ml**\n",
      "- Green chili: **5g (1 chili)**\n",
      "- Dried red chili: **3-4 pieces**\n",
      "- Curry leaves: **2g**\n",
      "- Garlic: **5g (1 clove)**\n",
      "- Mustard seeds: **1/4 tsp (1g)**\n",
      "- Turmeric powder: **1/4 tsp (1g)**\n",
      "- Chili powder: **1/2 tsp (2g)**\n",
      "- Salt: **to taste**\n",
      "- Vegetable oil: **1 tbsp (10g)**\n",
      "\n",
      "### Estimated Calories (for ~200g serving):\n",
      "\n",
      "| Ingredient        | Weight  | Kcal per 100g | Kcal (approx) |\n",
      "|-------------------|---------|---------------|---------------|\n",
      "| Red lentils (dry) | 75g     | 350           | 263           |\n",
      "| Onion             | 30g     | 40            | 12            |\n",
      "| Tomato            | 25g     | 20            | 5             |\n",
      "| Coconut milk      | 60ml    | 180           | 108           |\n",
      "| Vegetable oil     | 10g     | 900           | 90            |\n",
      "| Other (spices, chilies, leaves, garlic, etc.) | ~10g | ~50 | 5  |\n",
      "\n",
      "**Total Calories ≈ 483 kcal per bowl (200g serving)**\n",
      "\n",
      "### Notes:\n",
      "- Calories may vary based on specific recipe, lentil type, and amount of coconut milk/oil used.\n",
      "- Additional vegetables, more oil, or creamier coconut milk will further increase calories.\n",
      "\n",
      "Would you like the **macronutrient breakdown** or details for a different dish?\n",
      "\n"
     ]
    }
   ],
   "execution_count": 4
  },
  {
   "metadata": {
    "ExecuteTime": {
     "end_time": "2025-06-19T13:07:54.170228Z",
     "start_time": "2025-06-19T13:07:46.993176Z"
    }
   },
   "cell_type": "code",
   "source": [
    "from PIL import Image\n",
    "# from google import genai\n",
    "import google.generativeai as genai\n",
    "\n",
    "genai.configure(api_key= GOOGLE_API_KEY)\n",
    "client = genai.GenerativeModel( system_instruction=system_message, model_name =\"gemini-2.0-flash\")\n",
    "\n",
    "image = Image.open(\"new_ds/images/dhal_curry_1.jpg\")\n",
    "response = client.generate_content(\n",
    "    [image, \"can you tell me about the food ingredients and the amount of these in the dish that you can see in the image. Calulate the calory of the food\"]\n",
    ")\n",
    "print(response.text)"
   ],
   "id": "e5c576db3103a412",
   "outputs": [
    {
     "name": "stdout",
     "output_type": "stream",
     "text": [
      "Okay, I will analyze the image and provide information about the visible ingredients, estimate their amounts, and then calculate the approximate calorie count.\n",
      "\n",
      "**Food Identification and Ingredients:**\n",
      "\n",
      "Based on the image, the dish appears to be **Dhal Curry**. Key ingredients I can identify are:\n",
      "\n",
      "*   **Dhal (Lentils):** This is the base of the curry. It appears to be a significant portion of the dish.\n",
      "*   **Vegetables:** There appear to be some green vegetables mixed in, possibly including some green chilies.\n",
      "*   **Spices:** I can't identify them specifically, but the color suggests the presence of spices like turmeric.\n",
      "*   **Curry Leaves:** I can see curry leaves, used for flavoring.\n",
      "*   **Red Chilies:** There are some red chilies on top as garnish.\n",
      "\n",
      "**Estimated Amounts and Calorie Calculation:**\n",
      "\n",
      "I will estimate the calorie count based on the assumption of a single serving size and typical Dhal Curry recipes:\n",
      "\n",
      "*   **Dhal (Lentils):** I'll assume about 1 cup cooked lentils. (Approx. 230 calories)\n",
      "*   **Vegetables:** I'll estimate 1/2 cup mixed vegetables. (Approx. 25 calories)\n",
      "*   **Spices and Curry Leaves:** Minimal calorie contribution.\n",
      "*   **Oil/Ghee:** Dhal is typically cooked with some oil or ghee. I'll estimate 1 tablespoon. (Approx. 120 calories)\n",
      "\n",
      "**Total Estimated Calories:**\n",
      "\n",
      "230 (Lentils) + 25 (Vegetables) + 120 (Oil/Ghee) = **Approx. 375 calories**\n",
      "\n",
      "**Important Considerations:**\n",
      "\n",
      "*   **Accuracy:** This is a rough estimate. The actual calorie count can vary significantly based on the specific recipe, types of lentils used, amount of oil, and portion size.\n",
      "*   **Additional Ingredients:** It's possible the curry contains ingredients I can't see (e.g., coconut milk, ginger, garlic), which would influence the calorie count.\n",
      "*   **Serving Size:** This is based on a typical single serving.\n",
      "\n",
      "**Disclaimer:**\n",
      "This information is for general guidance only and should not be considered a substitute for professional nutritional advice. For accurate calorie counts, refer to specific recipes or use a nutrition tracking app where you can input the ingredients and amounts more precisely.\n"
     ]
    }
   ],
   "execution_count": 5
  }
 ],
 "metadata": {
  "kernelspec": {
   "display_name": "Python 3",
   "language": "python",
   "name": "python3"
  },
  "language_info": {
   "codemirror_mode": {
    "name": "ipython",
    "version": 2
   },
   "file_extension": ".py",
   "mimetype": "text/x-python",
   "name": "python",
   "nbconvert_exporter": "python",
   "pygments_lexer": "ipython2",
   "version": "2.7.6"
  }
 },
 "nbformat": 4,
 "nbformat_minor": 5
}
